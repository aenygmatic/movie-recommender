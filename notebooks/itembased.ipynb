{
 "cells": [
  {
   "metadata": {},
   "cell_type": "markdown",
   "source": "# Item-Based Collaborative Filtering",
   "id": "a9b049dac006922f"
  },
  {
   "metadata": {},
   "cell_type": "markdown",
   "source": "## Summary",
   "id": "4ff222bd6023c24c"
  },
  {
   "metadata": {},
   "cell_type": "markdown",
   "source": "This model uses item-based collaborative filtering. The recommendation are calculated using the correlation between movie preferences based on the input movie preferences and their rating. Giving one as rating will have a reverse effect on the recommendation.",
   "id": "efe0c5ef465d17f9"
  },
  {
   "metadata": {},
   "cell_type": "markdown",
   "source": "## Demo",
   "id": "53aa0344ae87dc8b"
  },
  {
   "metadata": {},
   "cell_type": "markdown",
   "source": "Get the data from MovieLens' database (once it so downloaded create a dataframe for it)",
   "id": "e32642dfd0a41fee"
  },
  {
   "metadata": {
    "ExecuteTime": {
     "end_time": "2024-05-20T14:25:18.673085Z",
     "start_time": "2024-05-20T14:25:18.628764Z"
    }
   },
   "cell_type": "code",
   "source": [
    "from data import datasets as ds\n",
    "\n",
    "df = ds.load_data(ds.Datasets.data_100K)"
   ],
   "id": "bd758a837b0fd883",
   "outputs": [],
   "execution_count": 6
  },
  {
   "metadata": {},
   "cell_type": "markdown",
   "source": "Initialize the recommendation module",
   "id": "d5e81b1cff0598a4"
  },
  {
   "metadata": {
    "ExecuteTime": {
     "end_time": "2024-05-20T14:25:19.655224Z",
     "start_time": "2024-05-20T14:25:18.674092Z"
    }
   },
   "cell_type": "code",
   "source": [
    "from models.itembased import MovieRecommendation\n",
    "\n",
    "model = MovieRecommendation(df)"
   ],
   "id": "812d4a35c4c98cad",
   "outputs": [],
   "execution_count": 7
  },
  {
   "metadata": {},
   "cell_type": "markdown",
   "source": "Now create a profile and let's see what the model recommends",
   "id": "c9c218b204e89ffb"
  },
  {
   "metadata": {
    "ExecuteTime": {
     "end_time": "2024-05-20T14:25:19.666981Z",
     "start_time": "2024-05-20T14:25:19.657232Z"
    }
   },
   "cell_type": "code",
   "source": [
    "from models import RatedMovie\n",
    "\n",
    "movies = model.get_recommendations(profile=[\n",
    "    RatedMovie('Home Alone (1990)', 5.0),\n",
    "    RatedMovie('Rent-a-Kid (1995)', 5.0),\n",
    "    RatedMovie('Seven (Se7en) (1995)', 5.0),\n",
    "    RatedMovie('E.T. the Extra-Terrestrial (1982)', 4.0),\n",
    "])\n",
    "\n",
    "movies.head(10)"
   ],
   "id": "4cfed966a46c238f",
   "outputs": [
    {
     "data": {
      "text/plain": [
       "title\n",
       "Toy Story (1995)                             1.716663\n",
       "Back to the Future (1985)                    1.639022\n",
       "Jurassic Park (1993)                         1.494156\n",
       "Groundhog Day (1993)                         1.484867\n",
       "Raiders of the Lost Ark (1981)               1.416956\n",
       "Top Gun (1986)                               1.245313\n",
       "Cape Fear (1991)                             1.178646\n",
       "Scream (1996)                                1.159368\n",
       "Indiana Jones and the Last Crusade (1989)    1.127565\n",
       "True Lies (1994)                             1.105133\n",
       "dtype: float64"
      ]
     },
     "execution_count": 8,
     "metadata": {},
     "output_type": "execute_result"
    }
   ],
   "execution_count": 8
  },
  {
   "metadata": {},
   "cell_type": "markdown",
   "source": "Now create a family friendly version of this profile and let's see what the model recommends",
   "id": "8d53e4faa253abc0"
  },
  {
   "metadata": {
    "ExecuteTime": {
     "end_time": "2024-05-20T14:25:19.678829Z",
     "start_time": "2024-05-20T14:25:19.667987Z"
    }
   },
   "cell_type": "code",
   "source": [
    "from models import RatedMovie\n",
    "\n",
    "family_friendly = model.get_recommendations(profile=[\n",
    "    RatedMovie('Home Alone (1990)', 5.0),\n",
    "    RatedMovie('Rent-a-Kid (1995)', 5.0),\n",
    "    RatedMovie('Seven (Se7en) (1995)', 1.0),\n",
    "    RatedMovie('E.T. the Extra-Terrestrial (1982)', 4.0),\n",
    "])\n",
    "\n",
    "family_friendly.head(10)"
   ],
   "id": "ea4ce76c15610d36",
   "outputs": [
    {
     "data": {
      "text/plain": [
       "title\n",
       "Back to the Future (1985)                    1.160320\n",
       "Raiders of the Lost Ark (1981)               1.084952\n",
       "Jurassic Park (1993)                         1.079263\n",
       "Mrs. Doubtfire (1993)                        1.064838\n",
       "Toy Story (1995)                             0.940529\n",
       "Groundhog Day (1993)                         0.889017\n",
       "Independence Day (ID4) (1996)                0.874529\n",
       "Fugitive, The (1993)                         0.846675\n",
       "Top Gun (1986)                               0.818523\n",
       "Indiana Jones and the Last Crusade (1989)    0.723236\n",
       "dtype: float64"
      ]
     },
     "execution_count": 9,
     "metadata": {},
     "output_type": "execute_result"
    }
   ],
   "execution_count": 9
  },
  {
   "metadata": {},
   "cell_type": "raw",
   "source": "Now let's try with a little different profile",
   "id": "dacb813573dbe0fd"
  },
  {
   "metadata": {
    "ExecuteTime": {
     "end_time": "2024-05-20T14:25:19.689879Z",
     "start_time": "2024-05-20T14:25:19.679781Z"
    }
   },
   "cell_type": "code",
   "source": [
    "from models.itembased import RatedMovie\n",
    "\n",
    "action_and_crime = model.get_recommendations(profile=[\n",
    "    RatedMovie('Terminator 2: Judgment Day (1991)', 5.0),\n",
    "    RatedMovie('Silence of the Lambs, The (1991)', 4.0),\n",
    "    RatedMovie('Seven (Se7en) (1995)', 5.0),\n",
    "])\n",
    "\n",
    "action_and_crime.head(10)"
   ],
   "id": "d0c43854adbe465e",
   "outputs": [
    {
     "data": {
      "text/plain": [
       "title\n",
       "Cape Fear (1991)                     2.020938\n",
       "True Lies (1994)                     1.884733\n",
       "Crimson Tide (1995)                  1.856731\n",
       "Batman (1989)                        1.654186\n",
       "Rock, The (1996)                     1.532926\n",
       "Die Hard (1988)                      1.524341\n",
       "Scream (1996)                        1.506050\n",
       "Die Hard: With a Vengeance (1995)    1.482440\n",
       "Jurassic Park (1993)                 1.472518\n",
       "Speed (1994)                         1.467257\n",
       "dtype: float64"
      ]
     },
     "execution_count": 10,
     "metadata": {},
     "output_type": "execute_result"
    }
   ],
   "execution_count": 10
  }
 ],
 "metadata": {
  "kernelspec": {
   "display_name": "Python 3",
   "language": "python",
   "name": "python3"
  },
  "language_info": {
   "codemirror_mode": {
    "name": "ipython",
    "version": 2
   },
   "file_extension": ".py",
   "mimetype": "text/x-python",
   "name": "python",
   "nbconvert_exporter": "python",
   "pygments_lexer": "ipython2",
   "version": "2.7.6"
  }
 },
 "nbformat": 4,
 "nbformat_minor": 5
}
